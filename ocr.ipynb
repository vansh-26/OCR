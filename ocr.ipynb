{
  "nbformat": 4,
  "nbformat_minor": 0,
  "metadata": {
    "colab": {
      "provenance": []
    },
    "kernelspec": {
      "name": "python3",
      "display_name": "Python 3"
    },
    "language_info": {
      "name": "python"
    }
  },
  "cells": [
    {
      "cell_type": "code",
      "source": [
        "!sudo apt install tesseract-ocr"
      ],
      "metadata": {
        "colab": {
          "base_uri": "https://localhost:8080/"
        },
        "id": "7H7_99bjiS_c",
        "outputId": "98e3ea57-6566-493b-82dc-d654f40f3f13"
      },
      "execution_count": 39,
      "outputs": [
        {
          "output_type": "stream",
          "name": "stdout",
          "text": [
            "Reading package lists... Done\n",
            "Building dependency tree... Done\n",
            "Reading state information... Done\n",
            "tesseract-ocr is already the newest version (4.1.1-2.1build1).\n",
            "0 upgraded, 0 newly installed, 0 to remove and 24 not upgraded.\n"
          ]
        }
      ]
    },
    {
      "cell_type": "code",
      "execution_count": 40,
      "metadata": {
        "colab": {
          "base_uri": "https://localhost:8080/"
        },
        "id": "Zm5YLbtPMpv0",
        "outputId": "5be62e68-3cbc-4d13-865d-18248286abb1"
      },
      "outputs": [
        {
          "output_type": "stream",
          "name": "stdout",
          "text": [
            "Requirement already satisfied: pytesseract in /usr/local/lib/python3.10/dist-packages (0.3.10)\n",
            "Requirement already satisfied: packaging>=21.3 in /usr/local/lib/python3.10/dist-packages (from pytesseract) (23.2)\n",
            "Requirement already satisfied: Pillow>=8.0.0 in /usr/local/lib/python3.10/dist-packages (from pytesseract) (9.4.0)\n"
          ]
        }
      ],
      "source": [
        "!pip install pytesseract"
      ]
    },
    {
      "cell_type": "code",
      "source": [
        "import pytesseract\n",
        "import cv2\n",
        "# from PIL import Image\n",
        "pytesseract.pytesseract.tesseract_cmd = '/usr/bin/tesseract'"
      ],
      "metadata": {
        "id": "Pnp7rdRq-j3w"
      },
      "execution_count": 41,
      "outputs": []
    },
    {
      "cell_type": "code",
      "source": [
        "import os\n",
        "tesseract_path = '/usr/bin/tesseract'\n",
        "os.environ['PATH'] += os.pathsep + os.path.dirname(tesseract_path)"
      ],
      "metadata": {
        "id": "g08nD27I4f1U"
      },
      "execution_count": 42,
      "outputs": []
    },
    {
      "cell_type": "code",
      "source": [
        "!which tesseract"
      ],
      "metadata": {
        "colab": {
          "base_uri": "https://localhost:8080/"
        },
        "id": "pqalGtsizvGc",
        "outputId": "eceb1324-94ca-430e-c0dc-c1dc374f4c2c"
      },
      "execution_count": 43,
      "outputs": [
        {
          "output_type": "stream",
          "name": "stdout",
          "text": [
            "/usr/bin/tesseract\n"
          ]
        }
      ]
    },
    {
      "cell_type": "code",
      "source": [
        "!echo $PATH"
      ],
      "metadata": {
        "colab": {
          "base_uri": "https://localhost:8080/"
        },
        "id": "jg6A5Bhoz6CJ",
        "outputId": "94640c36-00b7-4629-e6fa-89dbf537f056"
      },
      "execution_count": 44,
      "outputs": [
        {
          "output_type": "stream",
          "name": "stdout",
          "text": [
            "/opt/bin:/usr/local/nvidia/bin:/usr/local/cuda/bin:/usr/local/sbin:/usr/local/bin:/usr/sbin:/usr/bin:/sbin:/bin:/tools/node/bin:/tools/google-cloud-sdk/bin:/usr/local/lib:/usr/bin:/usr/bin\n"
          ]
        }
      ]
    },
    {
      "cell_type": "code",
      "source": [
        "!export PATH=$PATH:/usr/local/bin"
      ],
      "metadata": {
        "id": "wVW9RFmBz9-R"
      },
      "execution_count": 45,
      "outputs": []
    },
    {
      "cell_type": "code",
      "source": [
        "image = cv2.imread(\"/content/Screenshot_2024-01-05-02-18-10-20_45fb746795678a1ded33faef3c58e9c7.jpg\")\n",
        "base_image = image.copy()"
      ],
      "metadata": {
        "id": "5nH_6Y4cMzXl"
      },
      "execution_count": 47,
      "outputs": []
    },
    {
      "cell_type": "code",
      "source": [
        "gray = cv2.cvtColor(image, cv2.COLOR_BGR2GRAY)\n"
      ],
      "metadata": {
        "id": "fVlZM-nvMzem"
      },
      "execution_count": 48,
      "outputs": []
    },
    {
      "cell_type": "code",
      "source": [
        "cv2.imwrite(\"/content/Screenshot_2024-01-05-02-18-10-20_45fb746795678a1ded33faef3c58e9c7.jpg\", gray)\n"
      ],
      "metadata": {
        "colab": {
          "base_uri": "https://localhost:8080/"
        },
        "id": "AaET9TfhMzhO",
        "outputId": "e22b792a-8171-4941-a3c4-3c60b4925750"
      },
      "execution_count": 49,
      "outputs": [
        {
          "output_type": "execute_result",
          "data": {
            "text/plain": [
              "True"
            ]
          },
          "metadata": {},
          "execution_count": 49
        }
      ]
    },
    {
      "cell_type": "code",
      "source": [
        "blur = cv2.GaussianBlur(gray, (7,7), 0)"
      ],
      "metadata": {
        "id": "JW3G1As-Mzji"
      },
      "execution_count": 50,
      "outputs": []
    },
    {
      "cell_type": "code",
      "source": [
        "cv2.imwrite(\"/content/Screenshot_2024-01-05-02-18-10-20_45fb746795678a1ded33faef3c58e9c7.jpg\", blur)\n"
      ],
      "metadata": {
        "colab": {
          "base_uri": "https://localhost:8080/"
        },
        "id": "OXdwP5GqMzl5",
        "outputId": "c157d413-8a16-4830-ceae-0d6c89fc889c"
      },
      "execution_count": 51,
      "outputs": [
        {
          "output_type": "execute_result",
          "data": {
            "text/plain": [
              "True"
            ]
          },
          "metadata": {},
          "execution_count": 51
        }
      ]
    },
    {
      "cell_type": "code",
      "source": [
        "thresh = cv2.threshold(gray, 0,240, cv2.THRESH_BINARY_INV + cv2.THRESH_OTSU)[1]"
      ],
      "metadata": {
        "id": "lTyq4SQVMzoO"
      },
      "execution_count": 52,
      "outputs": []
    },
    {
      "cell_type": "code",
      "source": [
        "cv2.imwrite(\"/content/Screenshot_2024-01-05-02-18-10-20_45fb746795678a1ded33faef3c58e9c7.jpg\", thresh)"
      ],
      "metadata": {
        "colab": {
          "base_uri": "https://localhost:8080/"
        },
        "id": "9mlFWkC8NKiq",
        "outputId": "8a33b8ec-77a9-4ebf-e8c1-5930ef4d89e5"
      },
      "execution_count": 53,
      "outputs": [
        {
          "output_type": "execute_result",
          "data": {
            "text/plain": [
              "True"
            ]
          },
          "metadata": {},
          "execution_count": 53
        }
      ]
    },
    {
      "cell_type": "code",
      "source": [
        "kernal = cv2.getStructuringElement(cv2.MORPH_RECT, (3, 13))"
      ],
      "metadata": {
        "id": "bPke6dd_NKlA"
      },
      "execution_count": 54,
      "outputs": []
    },
    {
      "cell_type": "code",
      "source": [
        "cv2.imwrite(\"/content/Screenshot_2024-01-05-02-18-10-20_45fb746795678a1ded33faef3c58e9c7.jpg\", kernal)"
      ],
      "metadata": {
        "id": "xa2RMpUONKoG",
        "colab": {
          "base_uri": "https://localhost:8080/"
        },
        "outputId": "12007c57-c442-4d6e-f15f-040ccdf59a93"
      },
      "execution_count": 55,
      "outputs": [
        {
          "output_type": "execute_result",
          "data": {
            "text/plain": [
              "True"
            ]
          },
          "metadata": {},
          "execution_count": 55
        }
      ]
    },
    {
      "cell_type": "code",
      "source": [
        "dilate = cv2.dilate(thresh, kernal, iterations=1)"
      ],
      "metadata": {
        "id": "Htylr69FNKqc"
      },
      "execution_count": 56,
      "outputs": []
    },
    {
      "cell_type": "code",
      "source": [
        "cv2.imwrite(\"/content/Screenshot_2024-01-05-02-18-10-20_45fb746795678a1ded33faef3c58e9c7.jpg\", dilate)"
      ],
      "metadata": {
        "colab": {
          "base_uri": "https://localhost:8080/"
        },
        "id": "u15s673yNKsh",
        "outputId": "24e2f346-097e-4490-9437-1a3a59eda9b8"
      },
      "execution_count": 57,
      "outputs": [
        {
          "output_type": "execute_result",
          "data": {
            "text/plain": [
              "True"
            ]
          },
          "metadata": {},
          "execution_count": 57
        }
      ]
    },
    {
      "cell_type": "code",
      "source": [
        "cnts = cv2.findContours(dilate, cv2.RETR_EXTERNAL, cv2.CHAIN_APPROX_SIMPLE)"
      ],
      "metadata": {
        "id": "VTa6NVYhMzql"
      },
      "execution_count": 58,
      "outputs": []
    },
    {
      "cell_type": "code",
      "source": [
        "cnts = cnts[0] if len(cnts) == 2 else cents[1]"
      ],
      "metadata": {
        "id": "6VQ-swYDNgid"
      },
      "execution_count": 59,
      "outputs": []
    },
    {
      "cell_type": "code",
      "source": [
        "cnts = sorted(cnts, key=lambda x: cv2.boundingRect(x)[0])"
      ],
      "metadata": {
        "id": "vPVdjykANglD"
      },
      "execution_count": 60,
      "outputs": []
    },
    {
      "cell_type": "code",
      "source": [
        "for c in cnts:\n",
        "    x, y, w, h = cv2.boundingRect(c)\n",
        "    if h > 200 and w > 20:\n",
        "        roi = image[y:y+h, x:x+w]\n",
        "        cv2.imwrite(\"temp/index_roi.png\", roi)\n",
        "        cv2.rectangle(image, (x, y), (x+w, y+h), (36, 255, 12), 2)\n",
        "cv2.imwrite(\"/content/Screenshot_2024-01-05-02-18-10-20_45fb746795678a1ded33faef3c58e9c7.jpg\", image)"
      ],
      "metadata": {
        "colab": {
          "base_uri": "https://localhost:8080/"
        },
        "id": "m4Oexd7BNgnH",
        "outputId": "993e322c-37a0-44ca-d298-8235f44abc83"
      },
      "execution_count": 61,
      "outputs": [
        {
          "output_type": "execute_result",
          "data": {
            "text/plain": [
              "True"
            ]
          },
          "metadata": {},
          "execution_count": 61
        }
      ]
    },
    {
      "cell_type": "code",
      "source": [
        "res = pytesseract.image_to_string(image)"
      ],
      "metadata": {
        "id": "c3ha-s9tWyAT"
      },
      "execution_count": 66,
      "outputs": []
    },
    {
      "cell_type": "code",
      "source": [
        "print(res)"
      ],
      "metadata": {
        "colab": {
          "base_uri": "https://localhost:8080/"
        },
        "id": "fOD5rxpAijNu",
        "outputId": "08de5390-f569-47fc-d801-21cdfaada4e6"
      },
      "execution_count": 67,
      "outputs": [
        {
          "output_type": "stream",
          "name": "stdout",
          "text": [
            "bearable UX, unacceptable to users. In\n",
            "addition, with greater expectations for\n",
            "compelling user experiences, develop-\n",
            "ers must be more meticulous and care-\n",
            "ful in designing system UIs and UXs,\n",
            "making them comply with the charac-\n",
            "teristics of embedded applications.\n",
            "\n",
            "This chapter first introduces the\n",
            "general GUI design method for desktop\n",
            "systems and then shows how designing\n",
            "UIs for embedded systems is different.\n",
            "The aim is to help you quickly master\n",
            "general methods and principles of GUI\n",
            "design for Android applications.\n",
            "\n",
            "Characteristics of Interaction\n",
            "Modalities of Android Devices\n",
            "\n",
            "A general-purpose desktop computer\n",
            "has powerful input/output (or inter-\n",
            "action) devices such as a large, high-\n",
            "resolution screen, a full keyboard and\n",
            "mouse, and diverse interaction modali-\n",
            "ties. Typical desktop computer screens\n",
            "are at least 17 inches, with resolutions\n",
            "of at least 1,280 x 960 pixels. The key-\n",
            "board is generally a full keyboard or an\n",
            "enhanced keyboard. On full keyboards,\n",
            "letters, numbers, and other characters\n",
            "are located on corresponding keys—\n",
            "that is, full keyboards provide keys cor-\n",
            "responding to all characters. Enhanced\n",
            "\n",
            "Learning reading speed 5%\n",
            "\f\n"
          ]
        }
      ]
    }
  ]
}